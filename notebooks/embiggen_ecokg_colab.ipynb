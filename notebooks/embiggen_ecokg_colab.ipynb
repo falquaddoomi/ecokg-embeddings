{
  "cells": [
    {
      "cell_type": "code",
      "execution_count": null,
      "id": "22a1cde9-cf9b-4da4-8417-9d820cecadfb",
      "metadata": {
        "id": "22a1cde9-cf9b-4da4-8417-9d820cecadfb"
      },
      "outputs": [],
      "source": [
        "!pip install ensmallen embiggen tensorflow plot_keras_history"
      ]
    },
    {
      "cell_type": "code",
      "execution_count": 3,
      "id": "yNfY6LJB6p_e",
      "metadata": {
        "colab": {
          "base_uri": "https://localhost:8080/"
        },
        "id": "yNfY6LJB6p_e",
        "outputId": "fa1d1a42-847d-4de5-8599-9f3d17a22ca3"
      },
      "outputs": [
        {
          "name": "stderr",
          "output_type": "stream",
          "text": [
            "  % Total    % Received % Xferd  Average Speed   Time    Time     Time  Current\n",
            "                                 Dload  Upload   Total   Spent    Left  Speed\n",
            "\r  0     0    0     0    0     0      0      0 --:--:-- --:--:-- --:--:--     0\r100  150M  100  150M    0     0   247M      0 --:--:-- --:--:-- --:--:--  247M\n"
          ]
        }
      ],
      "source": [
        "!mkdir -p data && cd data && curl -LO 'https://storage.googleapis.com/ecokg/merged-kg.tar.gz' && tar zxf merged-kg.tar.gz"
      ]
    },
    {
      "cell_type": "code",
      "execution_count": 4,
      "id": "db603a17-cf3d-4d89-bfc0-3c16451be273",
      "metadata": {
        "colab": {
          "base_uri": "https://localhost:8080/",
          "height": 309
        },
        "id": "db603a17-cf3d-4d89-bfc0-3c16451be273",
        "outputId": "49ca0d97-3325-4717-a3b6-5ae99c9e1381"
      },
      "outputs": [
        {
          "data": {
            "text/html": [
              "<p>The undirected graph has 427657 nodes and 5379922 edges.</p><h3>RAM requirements</h3><p>The RAM requirements for the nodes and edges data structures are 81.83MB and 22.08MB respectively.</p><h3>Degree centrality</h3><p>The minimum node degree is 1, the maximum node degree is 99804, the mode degree is 2, the mean degree is 25.16 and the node degree median is 6.</p><p>The nodes with highest degree centrality are: TO:0000427 (degree 99804), TO:0000055 (degree 99707), TO:0000299 (degree 99457), TO:0000051 (degree 99415) and TO:0000140 (degree 98608).</p><h3>Disconnected nodes</h3><p>Disconnected nodes are nodes that are not connected to any other node.The graph contains 1 disconnected nodes.</p><h4>Singleton nodes with selfloops</h4><p>Singleton nodes with selfloops are nodes with no edge to other nodes and have exclusively selfloops. The graph contains a singleton node with selfloop, which is <a href='http://www.w3.org/2002/07/owl#Nothing' target='_blank' title='Go to OWL to get more informations about owl:Nothing'>owl:Nothing</a> (degree 1).</p>"
            ],
            "text/plain": [
              "<p>The undirected graph has 427657 nodes and 5379922 edges.</p><h3>RAM requirements</h3><p>The RAM requirements for the nodes and edges data structures are 81.83MB and 22.08MB respectively.</p><h3>Degree centrality</h3><p>The minimum node degree is 1, the maximum node degree is 99804, the mode degree is 2, the mean degree is 25.16 and the node degree median is 6.</p><p>The nodes with highest degree centrality are: TO:0000427 (degree 99804), TO:0000055 (degree 99707), TO:0000299 (degree 99457), TO:0000051 (degree 99415) and TO:0000140 (degree 98608).</p><h3>Disconnected nodes</h3><p>Disconnected nodes are nodes that are not connected to any other node.The graph contains 1 disconnected nodes.</p><h4>Singleton nodes with selfloops</h4><p>Singleton nodes with selfloops are nodes with no edge to other nodes and have exclusively selfloops. The graph contains a singleton node with selfloop, which is <a href='http://www.w3.org/2002/07/owl#Nothing' target='_blank' title='Go to OWL to get more informations about owl:Nothing'>owl:Nothing</a> (degree 1).</p>"
            ]
          },
          "execution_count": 4,
          "metadata": {},
          "output_type": "execute_result"
        }
      ],
      "source": [
        "from ensmallen import Graph\n",
        "\n",
        "g = Graph.from_csv(\n",
        "    # node_type_path=\"data/merged-kg_nodes.tsv\",\n",
        "    # nodes_column=\"id\",\n",
        "    # node_list_header=True,\n",
        "    # node_list_separator=\"\\t\",\n",
        "\n",
        "    edge_path=\"data/merged-kg_edges.tsv\",\n",
        "    sources_column=\"subject\",\n",
        "    destinations_column=\"object\",\n",
        "    edge_list_header=True,\n",
        "    edge_list_separator=\"\\t\",\n",
        "\n",
        "    directed=False, # FIXME: it's directed, but compute_node_embedding() (below) isn't compatible with directed graphs...?\n",
        "\n",
        "    # probably some other arguments too, see here:\n",
        "    # https://github.com/AnacletoLAB/grape/blob/main/tutorials/Loading_a_Graph_in_Ensmallen.ipynb\n",
        "    # under \"manually load a graph\"\n",
        ")\n",
        "\n",
        "g # make sure graph looks okay"
      ]
    },
    {
      "cell_type": "code",
      "execution_count": 5,
      "id": "UY2ipSss2_wm",
      "metadata": {
        "colab": {
          "base_uri": "https://localhost:8080/",
          "height": 677,
          "referenced_widgets": [
            "bd058a56244c4ab0add28c3754cbc74f",
            "0f818568b7df41fd9a774636e0e73c4e",
            "40f00a38ee5841298375f145c4f9cc7f",
            "5bc77b2c7ca94bb4a790af3ca82b065a",
            "97523edd0d1a40a6b8f00a910fe1b61b",
            "6d2a3fcc6c314805880dbddc3bf5d6e0",
            "a44362068ff246f99996625c89aa215a",
            "7e804ea68c2b4f1b8f7210b131aa7871",
            "0ca6ca209f58485cb2a3d0463577eb25",
            "05a1de0108614dbf8e86aca0972cc70a",
            "d7653ffa317543ccbe53ee8b30ce5c19"
          ]
        },
        "id": "UY2ipSss2_wm",
        "outputId": "c213c468-ff99-40d1-d49c-7d9823c7e133"
      },
      "outputs": [
        {
          "name": "stdout",
          "output_type": "stream",
          "text": [
            "INFO:tensorflow:Using MirroredStrategy with devices ('/job:localhost/replica:0/task:0/device:GPU:0',)\n",
            "INFO:tensorflow:Reduce to /job:localhost/replica:0/task:0/device:CPU:0 then broadcast to ('/job:localhost/replica:0/task:0/device:CPU:0',).\n",
            "INFO:tensorflow:Reduce to /job:localhost/replica:0/task:0/device:CPU:0 then broadcast to ('/job:localhost/replica:0/task:0/device:CPU:0',).\n",
            "INFO:tensorflow:Reduce to /job:localhost/replica:0/task:0/device:CPU:0 then broadcast to ('/job:localhost/replica:0/task:0/device:CPU:0',).\n",
            "INFO:tensorflow:Reduce to /job:localhost/replica:0/task:0/device:CPU:0 then broadcast to ('/job:localhost/replica:0/task:0/device:CPU:0',).\n"
          ]
        },
        {
          "data": {
            "application/vnd.jupyter.widget-view+json": {
              "model_id": "bd058a56244c4ab0add28c3754cbc74f",
              "version_major": 2,
              "version_minor": 0
            },
            "text/plain": [
              "0epoch [00:00, ?epoch/s]"
            ]
          },
          "metadata": {},
          "output_type": "display_data"
        },
        {
          "name": "stdout",
          "output_type": "stream",
          "text": [
            "INFO:tensorflow:Reduce to /job:localhost/replica:0/task:0/device:CPU:0 then broadcast to ('/job:localhost/replica:0/task:0/device:CPU:0',).\n",
            "INFO:tensorflow:Reduce to /job:localhost/replica:0/task:0/device:CPU:0 then broadcast to ('/job:localhost/replica:0/task:0/device:CPU:0',).\n",
            "INFO:tensorflow:Reduce to /job:localhost/replica:0/task:0/device:CPU:0 then broadcast to ('/job:localhost/replica:0/task:0/device:CPU:0',).\n",
            "INFO:tensorflow:Reduce to /job:localhost/replica:0/task:0/device:CPU:0 then broadcast to ('/job:localhost/replica:0/task:0/device:CPU:0',).\n",
            "INFO:tensorflow:Reduce to /job:localhost/replica:0/task:0/device:CPU:0 then broadcast to ('/job:localhost/replica:0/task:0/device:CPU:0',).\n",
            "INFO:tensorflow:Reduce to /job:localhost/replica:0/task:0/device:CPU:0 then broadcast to ('/job:localhost/replica:0/task:0/device:CPU:0',).\n"
          ]
        },
        {
          "data": {
            "text/plain": [
              "(<Figure size 720x360 with 2 Axes>,\n",
              " array([<matplotlib.axes._subplots.AxesSubplot object at 0x7f83507649d0>,\n",
              "        <matplotlib.axes._subplots.AxesSubplot object at 0x7f830fef9710>],\n",
              "       dtype=object))"
            ]
          },
          "execution_count": 5,
          "metadata": {},
          "output_type": "execute_result"
        },
        {
          "data": {
            "image/png": "[encoded data removed]",
            "text/plain": [
              "<Figure size 720x360 with 2 Axes>"
            ]
          },
          "metadata": {
            "needs_background": "light"
          },
          "output_type": "display_data"
        }
      ],
      "source": [
        "from embiggen.pipelines import compute_node_embedding\n",
        "from plot_keras_history import plot_history\n",
        "\n",
        "node_embedding_method_name = \"SkipGram\"\n",
        "\n",
        "first_order_rw_node_embedding, training_history = compute_node_embedding(\n",
        "    g,\n",
        "    node_embedding_method_name=node_embedding_method_name,\n",
        ")\n",
        "\n",
        "# need to use a GPU here\n",
        "plot_history(\n",
        "    training_history,\n",
        "    title=\"First-order random walk based {} model applied to graph {}\".format(\n",
        "        node_embedding_method_name,\n",
        "        g.get_name()\n",
        "    )\n",
        ")"
      ]
    },
    {
      "cell_type": "code",
      "execution_count": 6,
      "id": "LAAbbG2zcxtY",
      "metadata": {
        "colab": {
          "base_uri": "https://localhost:8080/"
        },
        "id": "LAAbbG2zcxtY",
        "outputId": "70e13d55-0664-435e-aa54-2b625e42faf3"
      },
      "outputs": [
        {
          "name": "stdout",
          "output_type": "stream",
          "text": [
            "152M\t./node_embeddings/SkipGram\n"
          ]
        }
      ],
      "source": [
        "!du -sh ./node_embeddings/*"
      ]
    },
    {
      "cell_type": "code",
      "execution_count": 7,
      "id": "MhyQw__1c1Cn",
      "metadata": {
        "id": "MhyQw__1c1Cn"
      },
      "outputs": [],
      "source": [
        "!tar czf node-embeddings.tar.gz ./node_embeddings/*"
      ]
    },
    {
      "cell_type": "code",
      "execution_count": 8,
      "id": "w3AsJo-Gc-Qa",
      "metadata": {
        "colab": {
          "base_uri": "https://localhost:8080/"
        },
        "id": "w3AsJo-Gc-Qa",
        "outputId": "8a61c590-d950-4727-c1a5-72110df220a6"
      },
      "outputs": [
        {
          "name": "stdout",
          "output_type": "stream",
          "text": [
            "885M\tdata\n",
            "152M\tnode_embeddings\n",
            "152M\tnode-embeddings.tar.gz\n",
            "55M\tsample_data\n"
          ]
        }
      ],
      "source": [
        "!du -sh *"
      ]
    }
  ],
  "metadata": {
    "accelerator": "GPU",
    "colab": {
      "collapsed_sections": [],
      "name": "embiggen_ecokg.ipynb",
      "provenance": []
    },
    "interpreter": {
      "hash": "a9f9bebe04776d973baaadc2ab17360e75d4fc618472cb092989793b8fe31445"
    },
    "kernelspec": {
      "display_name": "Python 3.9.6 64-bit ('.venv': venv)",
      "name": "python3"
    },
    "language_info": {
      "codemirror_mode": {
        "name": "ipython",
        "version": 3
      },
      "file_extension": ".py",
      "mimetype": "text/x-python",
      "name": "python",
      "nbconvert_exporter": "python",
      "pygments_lexer": "ipython3",
      "version": "3.9.6"
    },
    "widgets": {
      "application/vnd.jupyter.widget-state+json": {
        "05a1de0108614dbf8e86aca0972cc70a": {
          "model_module": "@jupyter-widgets/controls",
          "model_module_version": "1.5.0",
          "model_name": "DescriptionStyleModel",
          "state": {
            "_model_module": "@jupyter-widgets/controls",
            "_model_module_version": "1.5.0",
            "_model_name": "DescriptionStyleModel",
            "_view_count": null,
            "_view_module": "@jupyter-widgets/base",
            "_view_module_version": "1.2.0",
            "_view_name": "StyleView",
            "description_width": ""
          }
        },
        "0ca6ca209f58485cb2a3d0463577eb25": {
          "model_module": "@jupyter-widgets/base",
          "model_module_version": "1.2.0",
          "model_name": "LayoutModel",
          "state": {
            "_model_module": "@jupyter-widgets/base",
            "_model_module_version": "1.2.0",
            "_model_name": "LayoutModel",
            "_view_count": null,
            "_view_module": "@jupyter-widgets/base",
            "_view_module_version": "1.2.0",
            "_view_name": "LayoutView",
            "align_content": null,
            "align_items": null,
            "align_self": null,
            "border": null,
            "bottom": null,
            "display": null,
            "flex": null,
            "flex_flow": null,
            "grid_area": null,
            "grid_auto_columns": null,
            "grid_auto_flow": null,
            "grid_auto_rows": null,
            "grid_column": null,
            "grid_gap": null,
            "grid_row": null,
            "grid_template_areas": null,
            "grid_template_columns": null,
            "grid_template_rows": null,
            "height": null,
            "justify_content": null,
            "justify_items": null,
            "left": null,
            "margin": null,
            "max_height": null,
            "max_width": null,
            "min_height": null,
            "min_width": null,
            "object_fit": null,
            "object_position": null,
            "order": null,
            "overflow": null,
            "overflow_x": null,
            "overflow_y": null,
            "padding": null,
            "right": null,
            "top": null,
            "visibility": null,
            "width": null
          }
        },
        "0f818568b7df41fd9a774636e0e73c4e": {
          "model_module": "@jupyter-widgets/base",
          "model_module_version": "1.2.0",
          "model_name": "LayoutModel",
          "state": {
            "_model_module": "@jupyter-widgets/base",
            "_model_module_version": "1.2.0",
            "_model_name": "LayoutModel",
            "_view_count": null,
            "_view_module": "@jupyter-widgets/base",
            "_view_module_version": "1.2.0",
            "_view_name": "LayoutView",
            "align_content": null,
            "align_items": null,
            "align_self": null,
            "border": null,
            "bottom": null,
            "display": null,
            "flex": null,
            "flex_flow": null,
            "grid_area": null,
            "grid_auto_columns": null,
            "grid_auto_flow": null,
            "grid_auto_rows": null,
            "grid_column": null,
            "grid_gap": null,
            "grid_row": null,
            "grid_template_areas": null,
            "grid_template_columns": null,
            "grid_template_rows": null,
            "height": null,
            "justify_content": null,
            "justify_items": null,
            "left": null,
            "margin": null,
            "max_height": null,
            "max_width": null,
            "min_height": null,
            "min_width": null,
            "object_fit": null,
            "object_position": null,
            "order": null,
            "overflow": null,
            "overflow_x": null,
            "overflow_y": null,
            "padding": null,
            "right": null,
            "top": null,
            "visibility": null,
            "width": null
          }
        },
        "40f00a38ee5841298375f145c4f9cc7f": {
          "model_module": "@jupyter-widgets/controls",
          "model_module_version": "1.5.0",
          "model_name": "HTMLModel",
          "state": {
            "_dom_classes": [],
            "_model_module": "@jupyter-widgets/controls",
            "_model_module_version": "1.5.0",
            "_model_name": "HTMLModel",
            "_view_count": null,
            "_view_module": "@jupyter-widgets/controls",
            "_view_module_version": "1.5.0",
            "_view_name": "HTMLView",
            "description": "",
            "description_tooltip": null,
            "layout": "IPY_MODEL_a44362068ff246f99996625c89aa215a",
            "placeholder": "​",
            "style": "IPY_MODEL_6d2a3fcc6c314805880dbddc3bf5d6e0",
            "value": "  7%"
          }
        },
        "5bc77b2c7ca94bb4a790af3ca82b065a": {
          "model_module": "@jupyter-widgets/controls",
          "model_module_version": "1.5.0",
          "model_name": "FloatProgressModel",
          "state": {
            "_dom_classes": [],
            "_model_module": "@jupyter-widgets/controls",
            "_model_module_version": "1.5.0",
            "_model_name": "FloatProgressModel",
            "_view_count": null,
            "_view_module": "@jupyter-widgets/controls",
            "_view_module_version": "1.5.0",
            "_view_name": "ProgressView",
            "bar_style": "danger",
            "description": "",
            "description_tooltip": null,
            "layout": "IPY_MODEL_0ca6ca209f58485cb2a3d0463577eb25",
            "max": 100,
            "min": 0,
            "orientation": "horizontal",
            "style": "IPY_MODEL_7e804ea68c2b4f1b8f7210b131aa7871",
            "value": 7
          }
        },
        "6d2a3fcc6c314805880dbddc3bf5d6e0": {
          "model_module": "@jupyter-widgets/controls",
          "model_module_version": "1.5.0",
          "model_name": "DescriptionStyleModel",
          "state": {
            "_model_module": "@jupyter-widgets/controls",
            "_model_module_version": "1.5.0",
            "_model_name": "DescriptionStyleModel",
            "_view_count": null,
            "_view_module": "@jupyter-widgets/base",
            "_view_module_version": "1.2.0",
            "_view_name": "StyleView",
            "description_width": ""
          }
        },
        "7e804ea68c2b4f1b8f7210b131aa7871": {
          "model_module": "@jupyter-widgets/controls",
          "model_module_version": "1.5.0",
          "model_name": "ProgressStyleModel",
          "state": {
            "_model_module": "@jupyter-widgets/controls",
            "_model_module_version": "1.5.0",
            "_model_name": "ProgressStyleModel",
            "_view_count": null,
            "_view_module": "@jupyter-widgets/base",
            "_view_module_version": "1.2.0",
            "_view_name": "StyleView",
            "bar_color": null,
            "description_width": ""
          }
        },
        "97523edd0d1a40a6b8f00a910fe1b61b": {
          "model_module": "@jupyter-widgets/controls",
          "model_module_version": "1.5.0",
          "model_name": "HTMLModel",
          "state": {
            "_dom_classes": [],
            "_model_module": "@jupyter-widgets/controls",
            "_model_module_version": "1.5.0",
            "_model_name": "HTMLModel",
            "_view_count": null,
            "_view_module": "@jupyter-widgets/controls",
            "_view_module_version": "1.5.0",
            "_view_name": "HTMLView",
            "description": "",
            "description_tooltip": null,
            "layout": "IPY_MODEL_d7653ffa317543ccbe53ee8b30ce5c19",
            "placeholder": "​",
            "style": "IPY_MODEL_05a1de0108614dbf8e86aca0972cc70a",
            "value": " 7/100 [55:56&lt;12:22:40, 479.15s/epoch, loss=7.63, lr=0.009]"
          }
        },
        "a44362068ff246f99996625c89aa215a": {
          "model_module": "@jupyter-widgets/base",
          "model_module_version": "1.2.0",
          "model_name": "LayoutModel",
          "state": {
            "_model_module": "@jupyter-widgets/base",
            "_model_module_version": "1.2.0",
            "_model_name": "LayoutModel",
            "_view_count": null,
            "_view_module": "@jupyter-widgets/base",
            "_view_module_version": "1.2.0",
            "_view_name": "LayoutView",
            "align_content": null,
            "align_items": null,
            "align_self": null,
            "border": null,
            "bottom": null,
            "display": null,
            "flex": null,
            "flex_flow": null,
            "grid_area": null,
            "grid_auto_columns": null,
            "grid_auto_flow": null,
            "grid_auto_rows": null,
            "grid_column": null,
            "grid_gap": null,
            "grid_row": null,
            "grid_template_areas": null,
            "grid_template_columns": null,
            "grid_template_rows": null,
            "height": null,
            "justify_content": null,
            "justify_items": null,
            "left": null,
            "margin": null,
            "max_height": null,
            "max_width": null,
            "min_height": null,
            "min_width": null,
            "object_fit": null,
            "object_position": null,
            "order": null,
            "overflow": null,
            "overflow_x": null,
            "overflow_y": null,
            "padding": null,
            "right": null,
            "top": null,
            "visibility": null,
            "width": null
          }
        },
        "bd058a56244c4ab0add28c3754cbc74f": {
          "model_module": "@jupyter-widgets/controls",
          "model_module_version": "1.5.0",
          "model_name": "HBoxModel",
          "state": {
            "_dom_classes": [],
            "_model_module": "@jupyter-widgets/controls",
            "_model_module_version": "1.5.0",
            "_model_name": "HBoxModel",
            "_view_count": null,
            "_view_module": "@jupyter-widgets/controls",
            "_view_module_version": "1.5.0",
            "_view_name": "HBoxView",
            "box_style": "",
            "children": [
              "IPY_MODEL_40f00a38ee5841298375f145c4f9cc7f",
              "IPY_MODEL_5bc77b2c7ca94bb4a790af3ca82b065a",
              "IPY_MODEL_97523edd0d1a40a6b8f00a910fe1b61b"
            ],
            "layout": "IPY_MODEL_0f818568b7df41fd9a774636e0e73c4e"
          }
        },
        "d7653ffa317543ccbe53ee8b30ce5c19": {
          "model_module": "@jupyter-widgets/base",
          "model_module_version": "1.2.0",
          "model_name": "LayoutModel",
          "state": {
            "_model_module": "@jupyter-widgets/base",
            "_model_module_version": "1.2.0",
            "_model_name": "LayoutModel",
            "_view_count": null,
            "_view_module": "@jupyter-widgets/base",
            "_view_module_version": "1.2.0",
            "_view_name": "LayoutView",
            "align_content": null,
            "align_items": null,
            "align_self": null,
            "border": null,
            "bottom": null,
            "display": null,
            "flex": null,
            "flex_flow": null,
            "grid_area": null,
            "grid_auto_columns": null,
            "grid_auto_flow": null,
            "grid_auto_rows": null,
            "grid_column": null,
            "grid_gap": null,
            "grid_row": null,
            "grid_template_areas": null,
            "grid_template_columns": null,
            "grid_template_rows": null,
            "height": null,
            "justify_content": null,
            "justify_items": null,
            "left": null,
            "margin": null,
            "max_height": null,
            "max_width": null,
            "min_height": null,
            "min_width": null,
            "object_fit": null,
            "object_position": null,
            "order": null,
            "overflow": null,
            "overflow_x": null,
            "overflow_y": null,
            "padding": null,
            "right": null,
            "top": null,
            "visibility": null,
            "width": null
          }
        }
      }
    }
  },
  "nbformat": 4,
  "nbformat_minor": 5
}
